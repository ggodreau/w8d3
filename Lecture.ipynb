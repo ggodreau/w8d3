{
 "cells": [
  {
   "cell_type": "code",
   "execution_count": 1,
   "metadata": {
    "collapsed": true
   },
   "outputs": [],
   "source": [
    "import re"
   ]
  },
  {
   "cell_type": "code",
   "execution_count": 2,
   "metadata": {
    "collapsed": true
   },
   "outputs": [],
   "source": [
    "nba_data = \"\"\"Celtics:\n",
    "Record: 12-2, 1st in NBA Eastern Conference\n",
    "Last Game: W 95-94 vs. TOR\n",
    "Next Game: Tuesday, Nov. 14 at BRK\n",
    "Coach: Brad Stevens (12-2)\n",
    "Executive: Danny Ainge\n",
    "PTS/G: 102.2 (24th of 30) Opp PTS/G: 94.0 (1st of 30)\n",
    "SRS: 7.38 (3rd of 30) Pace: 96.4 (26th of 30)\n",
    "Off Rtg: 106.0 (17th of 30) Def Rtg: 97.5 (1st of 30)\n",
    "\n",
    "Hawks:\n",
    "Record: 2-11, 15th in NBA Eastern Conference\n",
    "Last Game: L 94-113 at WAS\n",
    "Next Game: Monday, Nov. 13 at NOP\n",
    "Coach: Mike Budenholzer (2-11)\n",
    "Executive: Travis Schlenk\n",
    "PTS/G: 102.5 (23rd of 30) Opp PTS/G: 110.8 (26th of 30)\n",
    "SRS: -8.59 (27th of 30) Pace: 100.0 (9th of 30)\n",
    "Off Rtg: 102.4 (25th of 30) Def Rtg: 110.8 (27th of 30)\n",
    "\n",
    "Spurs:\n",
    "Record: 8-5, 3rd in NBA Western Conference\n",
    "Last Game: W 133-94 vs. CHI\n",
    "Next Game: Tuesday, Nov. 14 at DAL\n",
    "Coach: Gregg Popovich (8-5)\n",
    "Executive: R.C. Buford\n",
    "PTS/G: 103.0 (22nd of 30) Opp PTS/G: 99.6 (5th of 30)\n",
    "SRS: 3.04 (9th of 30) Pace: 96.4 (27th of 30)\n",
    "Off Rtg: 106.9 (16th of 30) Def Rtg: 103.4 (6th of 30)\n",
    "\n",
    "Knicks:\n",
    "Record: 7-5, 4th in NBA Eastern Conference\n",
    "Last Game: W 118-91 vs. SAC\n",
    "Next Game: Monday, Nov. 13 vs. CLE\n",
    "Coach: Jeff Hornacek (7-5)\n",
    "Executive: Steve Mills\n",
    "PTS/G: 106.4 (16th of 30) Opp PTS/G: 105.0 (13th of 30)\n",
    "SRS: 1.12 (14th of 30) Pace: 96.5 (25th of 30)\n",
    "Off Rtg: 110.2 (6th of 30) Def Rtg: 108.8 (21st of 30)\n",
    "\n",
    "Bulls:\n",
    "Record: 2-9, 14th in NBA Eastern Conference\n",
    "Last Game: L 94-133 at SAS\n",
    "Next Game: Wednesday, Nov. 15 at OKC\n",
    "Coach: Fred Hoiberg (2-9)\n",
    "Executive: Gar Forman\n",
    "PTS/G: 93.6 (30th of 30) Opp PTS/G: 103.9 (10th of 30)\n",
    "SRS: -9.69 (29th of 30) Pace: 96.1 (29th of 30)\n",
    "Off Rtg: 96.6 (30th of 30) Def Rtg: 107.2 (19th of 30)\"\"\""
   ]
  },
  {
   "cell_type": "code",
   "execution_count": 15,
   "metadata": {},
   "outputs": [
    {
     "name": "stdout",
     "output_type": "stream",
     "text": [
      "Record: 12-2\n"
     ]
    }
   ],
   "source": [
    "m = re.search('Record: (\\d+)-(\\d+)', nba_data)\n",
    "if m:\n",
    "    print(m.group())\n",
    "else:\n",
    "    print('No match')"
   ]
  },
  {
   "cell_type": "code",
   "execution_count": 19,
   "metadata": {},
   "outputs": [
    {
     "data": {
      "text/plain": [
       "[('12', '2'), ('2', '11'), ('8', '5'), ('7', '5'), ('2', '9')]"
      ]
     },
     "execution_count": 19,
     "metadata": {},
     "output_type": "execute_result"
    }
   ],
   "source": [
    "re.findall('Record: (\\d+)-(\\d+)', nba_data)"
   ]
  },
  {
   "cell_type": "code",
   "execution_count": 20,
   "metadata": {},
   "outputs": [
    {
     "data": {
      "text/plain": [
       "'https://google.com'"
      ]
     },
     "execution_count": 20,
     "metadata": {},
     "output_type": "execute_result"
    }
   ],
   "source": [
    "url = 'https://google.com?search=foobar'\n",
    "re.sub(r'\\?.*', '', url)"
   ]
  },
  {
   "cell_type": "code",
   "execution_count": 21,
   "metadata": {
    "collapsed": true
   },
   "outputs": [],
   "source": [
    "string = 'The-quick-brOwn_fox_juMped_over_The-lazy-dog'"
   ]
  },
  {
   "cell_type": "code",
   "execution_count": 24,
   "metadata": {},
   "outputs": [
    {
     "data": {
      "text/plain": [
       "'theQuickBrownFoxJumpedOverTheLazyDog'"
      ]
     },
     "execution_count": 24,
     "metadata": {},
     "output_type": "execute_result"
    }
   ],
   "source": [
    "re.sub(r'[-_]([A-z])', lambda m: m.group(1).upper(), string.lower())"
   ]
  },
  {
   "cell_type": "code",
   "execution_count": 25,
   "metadata": {
    "collapsed": true
   },
   "outputs": [],
   "source": [
    "import pandas as pd"
   ]
  },
  {
   "cell_type": "code",
   "execution_count": 26,
   "metadata": {
    "collapsed": true
   },
   "outputs": [],
   "source": [
    "df = pd.read_csv('train.csv')"
   ]
  },
  {
   "cell_type": "code",
   "execution_count": 37,
   "metadata": {
    "collapsed": true
   },
   "outputs": [],
   "source": [
    "df['Title'] = df['Name'].str.extract(', ([^.]+)\\.', expand=False)"
   ]
  },
  {
   "cell_type": "code",
   "execution_count": 35,
   "metadata": {},
   "outputs": [
    {
     "data": {
      "text/html": [
       "<div>\n",
       "<style>\n",
       "    .dataframe thead tr:only-child th {\n",
       "        text-align: right;\n",
       "    }\n",
       "\n",
       "    .dataframe thead th {\n",
       "        text-align: left;\n",
       "    }\n",
       "\n",
       "    .dataframe tbody tr th {\n",
       "        vertical-align: top;\n",
       "    }\n",
       "</style>\n",
       "<table border=\"1\" class=\"dataframe\">\n",
       "  <thead>\n",
       "    <tr>\n",
       "      <th></th>\n",
       "      <th colspan=\"2\" halign=\"left\">Survived</th>\n",
       "    </tr>\n",
       "    <tr>\n",
       "      <th></th>\n",
       "      <th>mean</th>\n",
       "      <th>count</th>\n",
       "    </tr>\n",
       "    <tr>\n",
       "      <th>Title</th>\n",
       "      <th></th>\n",
       "      <th></th>\n",
       "    </tr>\n",
       "  </thead>\n",
       "  <tbody>\n",
       "    <tr>\n",
       "      <th>Capt</th>\n",
       "      <td>0.000000</td>\n",
       "      <td>1</td>\n",
       "    </tr>\n",
       "    <tr>\n",
       "      <th>Col</th>\n",
       "      <td>0.500000</td>\n",
       "      <td>2</td>\n",
       "    </tr>\n",
       "    <tr>\n",
       "      <th>Don</th>\n",
       "      <td>0.000000</td>\n",
       "      <td>1</td>\n",
       "    </tr>\n",
       "    <tr>\n",
       "      <th>Dr</th>\n",
       "      <td>0.428571</td>\n",
       "      <td>7</td>\n",
       "    </tr>\n",
       "    <tr>\n",
       "      <th>Jonkheer</th>\n",
       "      <td>0.000000</td>\n",
       "      <td>1</td>\n",
       "    </tr>\n",
       "    <tr>\n",
       "      <th>Lady</th>\n",
       "      <td>1.000000</td>\n",
       "      <td>1</td>\n",
       "    </tr>\n",
       "    <tr>\n",
       "      <th>Major</th>\n",
       "      <td>0.500000</td>\n",
       "      <td>2</td>\n",
       "    </tr>\n",
       "    <tr>\n",
       "      <th>Master</th>\n",
       "      <td>0.575000</td>\n",
       "      <td>40</td>\n",
       "    </tr>\n",
       "    <tr>\n",
       "      <th>Miss</th>\n",
       "      <td>0.697802</td>\n",
       "      <td>182</td>\n",
       "    </tr>\n",
       "    <tr>\n",
       "      <th>Mlle</th>\n",
       "      <td>1.000000</td>\n",
       "      <td>2</td>\n",
       "    </tr>\n",
       "    <tr>\n",
       "      <th>Mme</th>\n",
       "      <td>1.000000</td>\n",
       "      <td>1</td>\n",
       "    </tr>\n",
       "    <tr>\n",
       "      <th>Mr</th>\n",
       "      <td>0.156673</td>\n",
       "      <td>517</td>\n",
       "    </tr>\n",
       "    <tr>\n",
       "      <th>Mrs</th>\n",
       "      <td>0.792000</td>\n",
       "      <td>125</td>\n",
       "    </tr>\n",
       "    <tr>\n",
       "      <th>Ms</th>\n",
       "      <td>1.000000</td>\n",
       "      <td>1</td>\n",
       "    </tr>\n",
       "    <tr>\n",
       "      <th>Rev</th>\n",
       "      <td>0.000000</td>\n",
       "      <td>6</td>\n",
       "    </tr>\n",
       "    <tr>\n",
       "      <th>Sir</th>\n",
       "      <td>1.000000</td>\n",
       "      <td>1</td>\n",
       "    </tr>\n",
       "    <tr>\n",
       "      <th>the Countess</th>\n",
       "      <td>1.000000</td>\n",
       "      <td>1</td>\n",
       "    </tr>\n",
       "  </tbody>\n",
       "</table>\n",
       "</div>"
      ],
      "text/plain": [
       "              Survived      \n",
       "                  mean count\n",
       "Title                       \n",
       "Capt          0.000000     1\n",
       "Col           0.500000     2\n",
       "Don           0.000000     1\n",
       "Dr            0.428571     7\n",
       "Jonkheer      0.000000     1\n",
       "Lady          1.000000     1\n",
       "Major         0.500000     2\n",
       "Master        0.575000    40\n",
       "Miss          0.697802   182\n",
       "Mlle          1.000000     2\n",
       "Mme           1.000000     1\n",
       "Mr            0.156673   517\n",
       "Mrs           0.792000   125\n",
       "Ms            1.000000     1\n",
       "Rev           0.000000     6\n",
       "Sir           1.000000     1\n",
       "the Countess  1.000000     1"
      ]
     },
     "execution_count": 35,
     "metadata": {},
     "output_type": "execute_result"
    }
   ],
   "source": [
    "df[['Title', 'Survived']].groupby('Title').agg(['mean', 'count'])"
   ]
  },
  {
   "cell_type": "code",
   "execution_count": 42,
   "metadata": {
    "collapsed": true
   },
   "outputs": [],
   "source": [
    "from sklearn.linear_model import LogisticRegression\n",
    "from sklearn.pipeline import Pipeline, FeatureUnion\n",
    "from sklearn.preprocessing import FunctionTransformer"
   ]
  },
  {
   "cell_type": "code",
   "execution_count": 62,
   "metadata": {
    "collapsed": true
   },
   "outputs": [],
   "source": [
    "def is_reverend(df):\n",
    "    return df['Name'].str.contains('Rev').astype(int).to_frame()\n",
    "\n",
    "def pclass(df):\n",
    "    return df[['Pclass']].fillna(0)\n",
    "pclass_tf = FunctionTransformer(pclass, validate=False)"
   ]
  },
  {
   "cell_type": "code",
   "execution_count": 56,
   "metadata": {
    "collapsed": true
   },
   "outputs": [],
   "source": [
    "is_revered_tf = FunctionTransformer(is_reverend, validate=False)"
   ]
  },
  {
   "cell_type": "code",
   "execution_count": 72,
   "metadata": {
    "collapsed": true
   },
   "outputs": [],
   "source": [
    "fu = FeatureUnion([\n",
    "    ('is_reverend_tf', FunctionTransformer(func=is_reverend, validate=False))\n",
    "])"
   ]
  },
  {
   "cell_type": "code",
   "execution_count": 73,
   "metadata": {
    "collapsed": true
   },
   "outputs": [],
   "source": [
    "pipe = Pipeline([\n",
    "    ('fu', fu),\n",
    "    ('lr', LogisticRegression())\n",
    "])"
   ]
  },
  {
   "cell_type": "code",
   "execution_count": 74,
   "metadata": {
    "collapsed": true
   },
   "outputs": [],
   "source": [
    "from sklearn.model_selection import cross_val_score"
   ]
  },
  {
   "cell_type": "code",
   "execution_count": 75,
   "metadata": {},
   "outputs": [
    {
     "data": {
      "text/plain": [
       "0.61616161616161613"
      ]
     },
     "execution_count": 75,
     "metadata": {},
     "output_type": "execute_result"
    }
   ],
   "source": [
    "cross_val_score(pipe, df, df['Survived']).mean()"
   ]
  },
  {
   "cell_type": "code",
   "execution_count": null,
   "metadata": {
    "collapsed": true
   },
   "outputs": [],
   "source": [
    "pipe.predict(test)"
   ]
  }
 ],
 "metadata": {
  "kernelspec": {
   "display_name": "Python 3",
   "language": "python",
   "name": "python3"
  },
  "language_info": {
   "codemirror_mode": {
    "name": "ipython",
    "version": 3
   },
   "file_extension": ".py",
   "mimetype": "text/x-python",
   "name": "python",
   "nbconvert_exporter": "python",
   "pygments_lexer": "ipython3",
   "version": "3.6.1"
  }
 },
 "nbformat": 4,
 "nbformat_minor": 2
}
